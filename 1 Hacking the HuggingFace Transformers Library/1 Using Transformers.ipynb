{
  "nbformat": 4,
  "nbformat_minor": 0,
  "metadata": {
    "colab": {
      "provenance": [],
      "authorship_tag": "ABX9TyOw66vkpYgWEcZTNIzlVuoU",
      "include_colab_link": true
    },
    "kernelspec": {
      "name": "python3",
      "display_name": "Python 3"
    },
    "language_info": {
      "name": "python"
    }
  },
  "cells": [
    {
      "cell_type": "markdown",
      "metadata": {
        "id": "view-in-github",
        "colab_type": "text"
      },
      "source": [
        "<a href=\"https://colab.research.google.com/github/SayyidAbdullah14/LLMs-Open-Course-by-Kalbe-Sayyid/blob/main/1%20Hacking%20the%20HuggingFace%20Transformers%20Library/1%20Using%20Transformers.ipynb\" target=\"_parent\"><img src=\"https://colab.research.google.com/assets/colab-badge.svg\" alt=\"Open In Colab\"/></a>"
      ]
    },
    {
      "cell_type": "code",
      "execution_count": null,
      "metadata": {
        "id": "k7c9rNruunZa"
      },
      "outputs": [],
      "source": []
    }
  ]
}